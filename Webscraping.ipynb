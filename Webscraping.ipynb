{
 "cells": [
  {
   "cell_type": "code",
   "execution_count": 4,
   "metadata": {},
   "outputs": [],
   "source": [
    "from bs4 import BeautifulSoup\n",
    "import requests\n"
   ]
  },
  {
   "cell_type": "code",
   "execution_count": 10,
   "metadata": {},
   "outputs": [],
   "source": [
    "html_text = requests.get('https://www.timesjobs.com/candidate/job-search.html?searchType=personalizedSearch&from=submit&txtKeywords=Machine+Learning&txtLocation=').text\n"
   ]
  },
  {
   "cell_type": "code",
   "execution_count": 11,
   "metadata": {},
   "outputs": [],
   "source": [
    "soup = BeautifulSoup(html_text , 'lxml')"
   ]
  },
  {
   "cell_type": "code",
   "execution_count": 36,
   "metadata": {
    "scrolled": true
   },
   "outputs": [
    {
     "name": "stdout",
     "output_type": "stream",
     "text": [
      "Enter skills you are good at0\n",
      ">c\n",
      "Giving results for c\n",
      "company name = 47BillionInformationTechnologiesPvtLtd\n",
      "skills  = algorithms,python,machinelearning,java,datastructures\n",
      "MoreInfo  = https://www.timesjobs.com/job-detail/machine-learning-47billion-information-technologies-pvt-ltd-indore-0-to-3-yrs-jobid-r__PLUS__001Miv6qtzpSvf__PLUS__uAgZw==&source=srp\n",
      "\n",
      "company name = APPLYCUPHIRINGSOLUTIONSLLP\n",
      "skills  = imageprocessing,algorithms,python,c,c,naturallanguageprocessing,machinelearning,opencv\n",
      "MoreInfo  = https://www.timesjobs.com/job-detail/machine-learning-applycup-hiring-solutions-llp-ahmedabad-1-to-2-yrs-jobid-KTmx2llEovxzpSvf__PLUS__uAgZw==&source=srp\n",
      "\n",
      "company name = IIBMInstituteofBusinessManagement\n",
      "(MoreJobs)\n",
      "skills  = python,DataAnalysis,datascience\n",
      "MoreInfo  = https://www.timesjobs.com/job-detail/candidates-analyst-machine-learning-iibm-institute-of-business-management-bengaluru-bangalore-chennai-hyderabad-secunderabad-mumbai-pune-0-to-3-yrs-jobid-aLqx4RasiI1zpSvf__PLUS__uAgZw==&source=srp\n",
      "\n",
      "company name = CANVAS27.comConsultant\n",
      "(MoreJobs)\n",
      "skills  = python,nlp,naturallanguageprocessing,MongoDB,api,machinelearning,nosql\n",
      "MoreInfo  = https://www.timesjobs.com/job-detail/python-developer-machine-learning-canvas27-com-consultant-ahmedabad-bengaluru-bangalore-chennai-delhi-ncr-gurgaon-1-to-6-yrs-jobid-iKFW43h__SLASH__vVlzpSvf__PLUS__uAgZw==&source=srp\n",
      "\n",
      "company name = CANVAS27.comConsultant\n",
      "(MoreJobs)\n",
      "skills  = python,nlp,naturallanguageprocessing,MongoDB,api,machinelearning,nosql\n",
      "MoreInfo  = https://www.timesjobs.com/job-detail/python-developer-machine-learning-canvas27-com-consultant-hyderabad-secunderabad-kolkata-mumbai-noida-greater-noida-pune-1-to-6-yrs-jobid-ZLZiz__PLUS__U24oBzpSvf__PLUS__uAgZw==&source=srp\n",
      "\n",
      "company name = AngelandGenie\n",
      "skills  = cuda,c,python,c,softwaredesign,machinelearning,softwareengineer\n",
      "MoreInfo  = https://www.timesjobs.com/job-detail/machine-learning-deep-learning-angel-and-genie-bengaluru-bangalore-2-to-5-yrs-jobid-oaX6IpPiOF9zpSvf__PLUS__uAgZw==&source=srp\n",
      "\n",
      "company name = HRJobsPlacements\n",
      "(MoreJobs)\n",
      "skills  = datascientist,datascience,seniordatascientist,java,r,nlp,DataModeling,ExtJS,Spark,Python\n",
      "MoreInfo  = https://www.timesjobs.com/job-detail/senior-data-scientist-machine-learning-hr-jobs-placements-hyderabad-secunderabad-kolkata-mumbai-noida-greater-noida-pune-5-to-10-yrs-jobid-KpSjmBlZgmhzpSvf__PLUS__uAgZw==&source=srp\n",
      "\n",
      "company name = HRJobsPlacements\n",
      "(MoreJobs)\n",
      "skills  = datascientist,datascience,seniordatascientist,java,r,nlp,DataModeling,ExtJS,Spark,Python\n",
      "MoreInfo  = https://www.timesjobs.com/job-detail/senior-data-scientist-machine-learning-hr-jobs-placements-ahmedabad-bengaluru-bangalore-chennai-delhi-gurgaon-5-to-10-yrs-jobid-GuPVWXTeeeNzpSvf__PLUS__uAgZw==&source=srp\n",
      "\n",
      "company name = AMDIndiaPvtLtd\n",
      "skills  = algorithms,graphics,machinelearning\n",
      "MoreInfo  = https://www.timesjobs.com/job-detail/machine-learning-performance-engineer-amd-india-pvt-ltd-0-to-3-yrs-jobid-mWKhd4kbgjpzpSvf__PLUS__uAgZw==&source=srp\n",
      "\n"
     ]
    }
   ],
   "source": [
    "print('Enter skills you are good at0')\n",
    "skill_set = input('>')\n",
    "print(f'Giving results for {skill_set}')\n",
    "jobs = soup.find_all('li' , class_ = 'clearfix job-bx wht-shd-bx')\n",
    "for job in jobs:\n",
    "    published_date = job.find('span', class_ = 'sim-posted').span.text\n",
    "    if 'few' in published_date:\n",
    "        company_name = job.find('h3' , class_ = \"joblist-comp-name\").text.replace(' ','')\n",
    "        skills = job.find('span' , class_ = 'srp-skills').text.replace(' ', '')\n",
    "        More_Info = job.header.h2.a['href']\n",
    "        if skill_set in skills:\n",
    "            print(f'company name = {company_name.strip()}')\n",
    "            print(f'skills  = {skills.strip()}')\n",
    "            print(f'MoreInfo  = {More_Info}')\n",
    "            print('')\n",
    "        \n",
    "    \n"
   ]
  },
  {
   "cell_type": "code",
   "execution_count": 29,
   "metadata": {},
   "outputs": [
    {
     "name": "stdout",
     "output_type": "stream",
     "text": [
      "<class 'bs4.element.Tag'>\n"
     ]
    }
   ],
   "source": [
    "print(type(More_Info))\n",
    "\n"
   ]
  },
  {
   "cell_type": "code",
   "execution_count": null,
   "metadata": {},
   "outputs": [],
   "source": []
  },
  {
   "cell_type": "code",
   "execution_count": null,
   "metadata": {},
   "outputs": [],
   "source": []
  }
 ],
 "metadata": {
  "kernelspec": {
   "display_name": "Python 3",
   "language": "python",
   "name": "python3"
  },
  "language_info": {
   "codemirror_mode": {
    "name": "ipython",
    "version": 3
   },
   "file_extension": ".py",
   "mimetype": "text/x-python",
   "name": "python",
   "nbconvert_exporter": "python",
   "pygments_lexer": "ipython3",
   "version": "3.8.3"
  }
 },
 "nbformat": 4,
 "nbformat_minor": 4
}
